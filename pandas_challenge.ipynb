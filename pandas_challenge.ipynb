{
 "cells": [
  {
   "cell_type": "markdown",
   "id": "78e4a272",
   "metadata": {},
   "source": [
    "<p style=\"text-align:center;\">\n",
    "<img src=\"https://github.com/digital-futures-academy/DataScienceMasterResources/blob/main/Resources/datascience-notebook-header.png?raw=true\"\n",
    "     alt=\"DigitalFuturesLogo\"\n",
    "     style=\"float: center; margin-right: 10px;\" />\n",
    "</p>\n",
    "\n",
    "# Digital Futures Pandas Challenge\n",
    "\n",
    "- This challenge will consist of a set of exercises related to the Pandas package.\n",
    "\n",
    "- You will have 75 minutes to finish - add, commit and push to run the tests - enter the final score as your submission on Noodle. You should keep an eye on time and make sure you will be able to do this\n",
    "\n",
    "- To complete the exercises, use the additional files in the same folder as this notebook.  Do not edit any files other than this Notebook and make sure that you follow all instructions!\n",
    "\n",
    "When committing your code, only include the code that you are asked for - this will help ensure automated grading can take place."
   ]
  },
  {
   "cell_type": "code",
   "execution_count": 2,
   "id": "588d42fd",
   "metadata": {},
   "outputs": [],
   "source": [
    "import pandas as pd"
   ]
  },
  {
   "cell_type": "markdown",
   "id": "8df81eb0",
   "metadata": {},
   "source": [
    "## Task 1. Data Import and Data Frames"
   ]
  },
  {
   "cell_type": "markdown",
   "id": "85b703c0",
   "metadata": {},
   "source": [
    "### Task 1.1\n",
    "\n",
    "> Read in the 'students.csv' file that is in the same directory as this notebook into a DataFrame called `students_df`.  \n",
    "> Display the first 6 rows of the DataFrame to check"
   ]
  },
  {
   "cell_type": "code",
   "execution_count": null,
   "id": "d38d9370",
   "metadata": {},
   "outputs": [],
   "source": []
  },
  {
   "cell_type": "markdown",
   "id": "010aa95f",
   "metadata": {},
   "source": [
    "### Task 1.2\n",
    "\n",
    "> Read in the 'students_marks.csv' file as another DataFrame called `students_marks_df`."
   ]
  },
  {
   "cell_type": "code",
   "execution_count": null,
   "id": "7b4f3b8a",
   "metadata": {},
   "outputs": [],
   "source": []
  },
  {
   "cell_type": "markdown",
   "id": "141afd8d",
   "metadata": {},
   "source": [
    "### Task 1.3\n",
    "\n",
    "> Set 'ID' as the index in both data frames."
   ]
  },
  {
   "cell_type": "code",
   "execution_count": null,
   "id": "dc133f32",
   "metadata": {},
   "outputs": [],
   "source": []
  },
  {
   "cell_type": "markdown",
   "id": "7710661a",
   "metadata": {},
   "source": [
    "### Task 1.4\n",
    "\n",
    "> Join the two tables together into a new DataFrame called `students_data_df`."
   ]
  },
  {
   "cell_type": "code",
   "execution_count": null,
   "id": "5d8d2b71",
   "metadata": {},
   "outputs": [],
   "source": []
  },
  {
   "cell_type": "markdown",
   "id": "e881f063",
   "metadata": {},
   "source": [
    "---"
   ]
  },
  {
   "cell_type": "markdown",
   "id": "5acb5ddc",
   "metadata": {},
   "source": [
    "## Task 2 - Working with New Data"
   ]
  },
  {
   "cell_type": "markdown",
   "id": "99a71a57",
   "metadata": {},
   "source": [
    "### Task 2.1\n",
    "\n",
    "> Reproduce the below table by creating a new DataFrame from scratch - call it `new_students_df`.  \n",
    "> - Feel free to use lists, series or dictionaries but make sure the columns are named correctly. \n",
    "> Add it to the bottom of the original DataFrame.\n",
    "\n",
    "![Extra Students](https://github.com/digital-futures-academy/DataScienceMasterResources/blob/main/Resources/extra_students.png?raw=True\")"
   ]
  },
  {
   "cell_type": "code",
   "execution_count": null,
   "id": "ea31788e",
   "metadata": {},
   "outputs": [],
   "source": []
  },
  {
   "cell_type": "markdown",
   "id": "70cdc319",
   "metadata": {},
   "source": [
    "### Task 2.2\n",
    "\n",
    "> Combine this new DataFrame with the original DataFrame `students_data_df` and save it as `all_students_data_df`."
   ]
  },
  {
   "cell_type": "code",
   "execution_count": null,
   "id": "b31c5cb1",
   "metadata": {},
   "outputs": [],
   "source": []
  },
  {
   "cell_type": "markdown",
   "id": "713341fc",
   "metadata": {},
   "source": [
    "---"
   ]
  },
  {
   "cell_type": "markdown",
   "id": "2f6ab3aa",
   "metadata": {},
   "source": [
    "## Task 3 - Adding Columns and Slicing"
   ]
  },
  {
   "cell_type": "markdown",
   "id": "31029706",
   "metadata": {},
   "source": [
    "### Task 3.1\n",
    "\n",
    "> Absences need to be recorded - add a column the the `all_students_data_df` DataFrame with the name `Absences` and starting all values ***`0`***."
   ]
  },
  {
   "cell_type": "code",
   "execution_count": null,
   "id": "979eef00",
   "metadata": {},
   "outputs": [],
   "source": []
  },
  {
   "cell_type": "markdown",
   "id": "6023894f",
   "metadata": {},
   "source": [
    "### Task 3.2\n",
    "\n",
    ">Using `loc` (not `iloc`!), set the number of absences of the student with `id` `3` to `2`."
   ]
  },
  {
   "cell_type": "code",
   "execution_count": null,
   "id": "c691ff08",
   "metadata": {},
   "outputs": [],
   "source": []
  },
  {
   "cell_type": "markdown",
   "id": "89c126a9",
   "metadata": {},
   "source": [
    "### Task 3.3\n",
    "\n",
    ">Using `iloc` (not `loc`!), set the number of absences of the student with `id` `2` to `1`."
   ]
  },
  {
   "cell_type": "code",
   "execution_count": null,
   "id": "bd67b0ac",
   "metadata": {},
   "outputs": [],
   "source": []
  },
  {
   "cell_type": "markdown",
   "id": "9c0d380f",
   "metadata": {},
   "source": [
    "## Task 4 - Modifying and Aggregating Data Frames"
   ]
  },
  {
   "cell_type": "markdown",
   "id": "f7b01cf7",
   "metadata": {},
   "source": [
    "### Task 4.1\n",
    "\n",
    "> Create a pivot table called `num_of_students_in_each_class` with:\n",
    "> \n",
    "> - `Year` as the rows (indexes),\n",
    "> - `Class` as the columns, and\n",
    "> - The number of students as the values.\n",
    ">\n",
    "> Ensure that:\n",
    "> \n",
    "> - You use a single column (e.g., `\"L1\"`) for the `values` parameter.\n",
    "> - Any non-numeric values are replaced with `0`.\n",
    "> - The resulting pivot table should not have multi-level columns."
   ]
  },
  {
   "cell_type": "code",
   "execution_count": null,
   "id": "0631ae97",
   "metadata": {},
   "outputs": [],
   "source": []
  },
  {
   "cell_type": "markdown",
   "id": "22e87d52",
   "metadata": {},
   "source": [
    "### Task 4.2\n",
    "\n",
    "> The school wants to change scoring system, and replace 1-10 with a letter grade.  \n",
    "> Write a function that will change 10 to A, 9/8 to B, 7/6 to C and any lower scores to D."
   ]
  },
  {
   "cell_type": "code",
   "execution_count": null,
   "id": "dff3708a",
   "metadata": {},
   "outputs": [],
   "source": [
    "# Do not change the name of this method!\n",
    "def grading_change(x: int) -> str:\n",
    "    # Implement your logic below and replace the pass statement with your code\n",
    "    pass\n",
    "# End grading_change - do not delete!"
   ]
  },
  {
   "cell_type": "markdown",
   "id": "26c853b0",
   "metadata": {},
   "source": [
    "### Task 4.3\n",
    "\n",
    "> Use the function to ***permanently change*** the grades in the grade columns in the `all_students_data_df` DataFrame."
   ]
  },
  {
   "cell_type": "code",
   "execution_count": null,
   "id": "058e7339",
   "metadata": {},
   "outputs": [],
   "source": []
  },
  {
   "cell_type": "markdown",
   "id": "011984d5",
   "metadata": {},
   "source": [
    "---"
   ]
  },
  {
   "cell_type": "markdown",
   "id": "77d9f241",
   "metadata": {},
   "source": [
    "## Task 5 - Further Analysis"
   ]
  },
  {
   "cell_type": "markdown",
   "id": "4f938e0d",
   "metadata": {},
   "source": [
    "### Task 5.1\n",
    "\n",
    "> Create a Data Frame (assign it to a new variable called `math_a_students`) from the `all_students_data_df` DataFrame.  \n",
    "> It should show all students who achieved an `A` in `Maths`. Then, show their `Class`, and *mark* in `L1`, `L2` and `Maths`."
   ]
  },
  {
   "cell_type": "code",
   "execution_count": null,
   "id": "416e786d",
   "metadata": {},
   "outputs": [],
   "source": []
  },
  {
   "cell_type": "markdown",
   "id": "9b567b0f",
   "metadata": {},
   "source": [
    "### Task 5.2\n",
    "\n",
    "> Permanently sort the new DataFrame by the descending marks in `L1`."
   ]
  },
  {
   "cell_type": "code",
   "execution_count": null,
   "id": "dbb842fc",
   "metadata": {},
   "outputs": [],
   "source": []
  },
  {
   "cell_type": "markdown",
   "id": "0bf9a75f",
   "metadata": {},
   "source": [
    "### Task 5.3\n",
    "\n",
    "> Display the first 10 rows of the sorted DataFrame."
   ]
  },
  {
   "cell_type": "code",
   "execution_count": null,
   "id": "d5da9783",
   "metadata": {},
   "outputs": [],
   "source": []
  },
  {
   "cell_type": "markdown",
   "id": "170f65a6",
   "metadata": {},
   "source": [
    "---"
   ]
  }
 ],
 "metadata": {
  "kernelspec": {
   "display_name": ".venv (3.13.2)",
   "language": "python",
   "name": "python3"
  },
  "language_info": {
   "codemirror_mode": {
    "name": "ipython",
    "version": 3
   },
   "file_extension": ".py",
   "mimetype": "text/x-python",
   "name": "python",
   "nbconvert_exporter": "python",
   "pygments_lexer": "ipython3",
   "version": "3.13.2"
  }
 },
 "nbformat": 4,
 "nbformat_minor": 5
}
